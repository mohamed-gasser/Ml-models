{
  "nbformat": 4,
  "nbformat_minor": 0,
  "metadata": {
    "colab": {
      "name": "CNN.ipynb",
      "provenance": [],
      "collapsed_sections": []
    },
    "kernelspec": {
      "name": "python3",
      "display_name": "Python 3"
    },
    "language_info": {
      "name": "python"
    }
  },
  "cells": [
    {
      "cell_type": "code",
      "execution_count": 3,
      "metadata": {
        "colab": {
          "base_uri": "https://localhost:8080/"
        },
        "id": "Xvpkc97aWAA8",
        "outputId": "ddcc3af4-8a13-42af-8e25-b29e306aa377"
      },
      "outputs": [
        {
          "output_type": "stream",
          "name": "stdout",
          "text": [
            "Done\n"
          ]
        }
      ],
      "source": [
        "from zipfile import ZipFile\n",
        "file_name=\"signal.zip\"\n",
        "\n",
        "with ZipFile(file_name,'r') as zip:\n",
        "  zip.extractall()\n",
        "  print('Done')"
      ]
    },
    {
      "cell_type": "code",
      "source": [
        "import numpy as np\n",
        "import matplotlib.pyplot as plt\n",
        "%matplotlib inline\n",
        "import os\n",
        "import cv2\n",
        "import tensorflow as tf\n",
        "import numpy as np \n",
        "import pandas as pd \n",
        "import seaborn as sns\n",
        "import warnings\n",
        "warnings.filterwarnings('ignore')"
      ],
      "metadata": {
        "id": "G-Mb_G7IWBus"
      },
      "execution_count": 534,
      "outputs": []
    },
    {
      "cell_type": "code",
      "source": [
        "IMG_SIZE=50\n",
        "dataset='traffic'\n",
        "categories=['GuideSign','M1','M4','M5','M6','M7','P1','P10_50','P12','W1']\n",
        "           \n",
        "      "
      ],
      "metadata": {
        "id": "e8tMNjf_dafd"
      },
      "execution_count": 535,
      "outputs": []
    },
    {
      "cell_type": "code",
      "source": [
        "# Categories_Data\n",
        "training_data=[]\n",
        "\n",
        "for c in categories:\n",
        "    path=os.path.join(dataset,c)\n",
        "    class_num=categories.index(c)\n",
        "    for img in os.listdir(path):\n",
        "  \n",
        "            img_arrary=cv2.imread(os.path.join(path,img))\n",
        "            new_array=cv2.resize(img_arrary,(IMG_SIZE,IMG_SIZE))\n",
        "            training_data.append([new_array,class_num])\n",
        "\n"
      ],
      "metadata": {
        "id": "CE0DqTCMz5JL"
      },
      "execution_count": 536,
      "outputs": []
    },
    {
      "cell_type": "code",
      "source": [
        "import random\n",
        "random.shuffle(training_data)"
      ],
      "metadata": {
        "id": "N3jRXODPdkPK"
      },
      "execution_count": 537,
      "outputs": []
    },
    {
      "cell_type": "code",
      "source": [
        "for sample in training_data[:5]:\n",
        "    print(sample[1])\n",
        "print(new_array)"
      ],
      "metadata": {
        "colab": {
          "base_uri": "https://localhost:8080/"
        },
        "id": "HdqbvzNBdkUt",
        "outputId": "2afdf3f6-bfc8-42ed-f201-a5bfc52f25c6"
      },
      "execution_count": 538,
      "outputs": [
        {
          "output_type": "stream",
          "name": "stdout",
          "text": [
            "1\n",
            "5\n",
            "3\n",
            "5\n",
            "2\n",
            "[[[136 130 123]\n",
            "  [138 131 122]\n",
            "  [141 133 120]\n",
            "  ...\n",
            "  [126 117 104]\n",
            "  [132 123 109]\n",
            "  [133 125 108]]\n",
            "\n",
            " [[132 131 123]\n",
            "  [134 132 122]\n",
            "  [137 134 120]\n",
            "  ...\n",
            "  [113 105  92]\n",
            "  [121 114  99]\n",
            "  [125 118 101]]\n",
            "\n",
            " [[125 130 121]\n",
            "  [128 132 121]\n",
            "  [131 133 118]\n",
            "  ...\n",
            "  [ 94  88  75]\n",
            "  [104  99  84]\n",
            "  [113 109  91]]\n",
            "\n",
            " ...\n",
            "\n",
            " [[ 55 103 105]\n",
            "  [ 32  83  85]\n",
            "  [  9  63  64]\n",
            "  ...\n",
            "  [ 16  62  69]\n",
            "  [ 31  66  67]\n",
            "  [ 52  71  59]]\n",
            "\n",
            " [[ 48  97  99]\n",
            "  [ 28  79  81]\n",
            "  [ 10  64  65]\n",
            "  ...\n",
            "  [ 26  70  75]\n",
            "  [ 37  70  69]\n",
            "  [ 52  70  57]]\n",
            "\n",
            " [[ 41  89  91]\n",
            "  [ 25  76  78]\n",
            "  [ 10  64  65]\n",
            "  ...\n",
            "  [ 34  76  79]\n",
            "  [ 41  72  69]\n",
            "  [ 52  69  54]]]\n"
          ]
        }
      ]
    },
    {
      "cell_type": "code",
      "source": [
        "from sklearn.model_selection import train_test_split\n",
        "X=[]\n",
        "y=[]"
      ],
      "metadata": {
        "id": "h2QgonWkjbz6"
      },
      "execution_count": 539,
      "outputs": []
    },
    {
      "cell_type": "code",
      "source": [
        "for feature ,label in training_data: \n",
        "    X.append(feature)\n",
        "    y.append(label)\n",
        "plt.imshow(X[1])\n",
        "Q=X[0]/255\n",
        "Q\n",
        "print(len(y))\n",
        "print(len(X))"
      ],
      "metadata": {
        "colab": {
          "base_uri": "https://localhost:8080/",
          "height": 303
        },
        "id": "dTr638iBjcBA",
        "outputId": "59a9cfe6-6765-45ce-def1-a5df8dce3179"
      },
      "execution_count": 540,
      "outputs": [
        {
          "output_type": "stream",
          "name": "stdout",
          "text": [
            "6348\n",
            "6348\n"
          ]
        },
        {
          "output_type": "display_data",
          "data": {
            "text/plain": [
              "<Figure size 432x288 with 1 Axes>"
            ],
            "image/png": "[encoded data removed]"
          },
          "metadata": {
            "needs_background": "light"
          }
        }
      ]
    },
    {
      "cell_type": "code",
      "source": [
        "X=np.array(X)\n",
        "y=np.array(y)\n"
      ],
      "metadata": {
        "id": "xqhXA5QgjcKt"
      },
      "execution_count": 541,
      "outputs": []
    },
    {
      "cell_type": "code",
      "source": [
        "\n",
        "plt.figure(figsize=(17,5))\n",
        "g = sns.countplot(y, palette=\"icefire\")\n",
        "plt.title(\"Number of digit classes\")"
      ],
      "metadata": {
        "colab": {
          "base_uri": "https://localhost:8080/",
          "height": 354
        },
        "id": "uKk3ZVQRj56n",
        "outputId": "ddd466fa-ec60-4424-d133-003c6128126f"
      },
      "execution_count": 542,
      "outputs": [
        {
          "output_type": "execute_result",
          "data": {
            "text/plain": [
              "Text(0.5, 1.0, 'Number of digit classes')"
            ]
          },
          "metadata": {},
          "execution_count": 542
        },
        {
          "output_type": "display_data",
          "data": {
            "text/plain": [
              "<Figure size 1224x360 with 1 Axes>"
            ],
            "image/png": "[encoded data removed]"
          },
          "metadata": {
            "needs_background": "light"
          }
        }
      ]
    },
    {
      "cell_type": "code",
      "source": [
        "X_train,X_test,y_train,y_test=train_test_split(X,y,test_size=0.2,shuffle=True,random_state=2)\n",
        "X_Train,X_val,y_Train,y_val=train_test_split(X_train,y_train,test_size=0.2,random_state=2)"
      ],
      "metadata": {
        "id": "nBh9Jeopj_Hk"
      },
      "execution_count": 543,
      "outputs": []
    },
    {
      "cell_type": "code",
      "source": [
        "print(len(X_Train))\n",
        "print(len(X_val))\n",
        "print(len(X_test))"
      ],
      "metadata": {
        "colab": {
          "base_uri": "https://localhost:8080/"
        },
        "id": "sMi-fS-zj_bY",
        "outputId": "9bcf71a4-3e52-4691-ad97-c24fc0371d98"
      },
      "execution_count": 544,
      "outputs": [
        {
          "output_type": "stream",
          "name": "stdout",
          "text": [
            "4062\n",
            "1016\n",
            "1270\n"
          ]
        }
      ]
    },
    {
      "cell_type": "code",
      "source": [
        "X_Train.shape\n",
        "y_Train[:5]\n",
        "X_Train.shape"
      ],
      "metadata": {
        "colab": {
          "base_uri": "https://localhost:8080/"
        },
        "id": "aJ1bQ4iBj_fg",
        "outputId": "322d3d4c-add7-4ff6-8dc2-39e0a6fa041d"
      },
      "execution_count": 545,
      "outputs": [
        {
          "output_type": "execute_result",
          "data": {
            "text/plain": [
              "(4062, 50, 50, 3)"
            ]
          },
          "metadata": {},
          "execution_count": 545
        }
      ]
    },
    {
      "cell_type": "code",
      "source": [
        "plt.matshow(X_Train[0])"
      ],
      "metadata": {
        "colab": {
          "base_uri": "https://localhost:8080/",
          "height": 293
        },
        "id": "nM4ddObTkH3V",
        "outputId": "5f6bb773-291d-4d57-f0d3-e60a991b4218"
      },
      "execution_count": 546,
      "outputs": [
        {
          "output_type": "execute_result",
          "data": {
            "text/plain": [
              "<matplotlib.image.AxesImage at 0x7fcb1aae1fd0>"
            ]
          },
          "metadata": {},
          "execution_count": 546
        },
        {
          "output_type": "display_data",
          "data": {
            "text/plain": [
              "<Figure size 288x288 with 1 Axes>"
            ],
            "image/png": "[encoded data removed]"
          },
          "metadata": {
            "needs_background": "light"
          }
        }
      ]
    },
    {
      "cell_type": "code",
      "source": [
        "#Normalization\n",
        "\n",
        "X_Train = X_Train / 255.0\n",
        "X_test = X_test / 255.0\n"
      ],
      "metadata": {
        "id": "ljKC2NhXkMhg"
      },
      "execution_count": 547,
      "outputs": []
    },
    {
      "cell_type": "code",
      "source": [
        "#CNN\n",
        "\n",
        "from tensorflow.keras import layers, models,optimizers\n",
        "from tensorflow.keras.models import Sequential\n",
        "cnn = Sequential([\n",
        "    layers.Conv2D(filters=8, kernel_size=(3, 3),padding='same',activation='relu', input_shape=(50, 50,3)),\n",
        "    layers.MaxPooling2D((2, 2)),\n",
        "    layers.Dropout(0.25),\n",
        "\n",
        "    layers.Conv2D(filters=16, kernel_size=(3, 3),padding='same',activation='relu'),\n",
        "    layers.MaxPooling2D((2, 2)),\n",
        "    layers.Dropout(0.25),\n",
        "\n",
        "  \n",
        "  \n",
        "\n",
        "    layers.Flatten(),\n",
        "    layers.Dense(256, activation='relu'),\n",
        "    layers.Dense(128, activation='relu'),\n",
        "    layers.Dropout(0.25),\n",
        "    layers.Dense(10, activation='softmax')\n",
        "    \n",
        "])\n",
        "cnn.summary()"
      ],
      "metadata": {
        "id": "aByWf01ckMnA",
        "colab": {
          "base_uri": "https://localhost:8080/"
        },
        "outputId": "8b49b5c9-52ab-432d-bf96-fa298f637958"
      },
      "execution_count": 548,
      "outputs": [
        {
          "output_type": "stream",
          "name": "stdout",
          "text": [
            "Model: \"sequential_54\"\n",
            "_________________________________________________________________\n",
            " Layer (type)                Output Shape              Param #   \n",
            "=================================================================\n",
            " conv2d_152 (Conv2D)         (None, 50, 50, 8)         224       \n",
            "                                                                 \n",
            " max_pooling2d_152 (MaxPooli  (None, 25, 25, 8)        0         \n",
            " ng2D)                                                           \n",
            "                                                                 \n",
            " dropout_207 (Dropout)       (None, 25, 25, 8)         0         \n",
            "                                                                 \n",
            " conv2d_153 (Conv2D)         (None, 25, 25, 16)        1168      \n",
            "                                                                 \n",
            " max_pooling2d_153 (MaxPooli  (None, 12, 12, 16)       0         \n",
            " ng2D)                                                           \n",
            "                                                                 \n",
            " dropout_208 (Dropout)       (None, 12, 12, 16)        0         \n",
            "                                                                 \n",
            " flatten_54 (Flatten)        (None, 2304)              0         \n",
            "                                                                 \n",
            " dense_162 (Dense)           (None, 256)               590080    \n",
            "                                                                 \n",
            " dense_163 (Dense)           (None, 128)               32896     \n",
            "                                                                 \n",
            " dropout_209 (Dropout)       (None, 128)               0         \n",
            "                                                                 \n",
            " dense_164 (Dense)           (None, 10)                1290      \n",
            "                                                                 \n",
            "=================================================================\n",
            "Total params: 625,658\n",
            "Trainable params: 625,658\n",
            "Non-trainable params: 0\n",
            "_________________________________________________________________\n"
          ]
        }
      ]
    },
    {
      "cell_type": "code",
      "source": [
        "\n",
        "import time\n",
        "\n",
        "\"\"\"\n",
        "class TimeHistory(tf.keras.callbacks.Callback):\n",
        "    def on_train_begin(self, logs={}):\n",
        "        self.times = []\n",
        "\n",
        "    def on_epoch_begin(self, epoch, logs={}):\n",
        "        self.epoch_time_start = time.time()\n",
        "\n",
        "    def on_epoch_end(self, epoch, logs={}):\n",
        "        self.times.append(time.time() - self.epoch_time_start)\n",
        "        \"\"\"\n",
        "#time_callback1 = TimeHistory()\n",
        "tcnn=time.time()\n"
      ],
      "metadata": {
        "id": "KjkWPjt3d4jp"
      },
      "execution_count": 549,
      "outputs": []
    },
    {
      "cell_type": "code",
      "source": [
        "adm=optimizers.Adam(learning_rate=0.001)\n",
        "cnn.compile(optimizer=adm,\n",
        "          loss='sparse_categorical_crossentropy',\n",
        "      metrics=['accuracy'])"
      ],
      "metadata": {
        "id": "s71Mf14tjqy9"
      },
      "execution_count": 550,
      "outputs": []
    },
    {
      "cell_type": "code",
      "source": [
        "history1=cnn.fit(X_Train,y_Train,validation_data = (X_val,y_val),verbose='auto',epochs=35,batch_size=32)"
      ],
      "metadata": {
        "colab": {
          "base_uri": "https://localhost:8080/"
        },
        "id": "B1G5n3MhkMso",
        "outputId": "ee87f2c3-b763-46ad-f550-a7d35f025a2b"
      },
      "execution_count": 551,
      "outputs": [
        {
          "output_type": "stream",
          "name": "stdout",
          "text": [
            "Epoch 1/35\n",
            "127/127 [==============================] - 10s 78ms/step - loss: 1.0959 - accuracy: 0.6657 - val_loss: 45.0759 - val_accuracy: 0.8209\n",
            "Epoch 2/35\n",
            "127/127 [==============================] - 5s 43ms/step - loss: 0.5603 - accuracy: 0.8301 - val_loss: 53.1840 - val_accuracy: 0.8406\n",
            "Epoch 3/35\n",
            "127/127 [==============================] - 5s 42ms/step - loss: 0.4480 - accuracy: 0.8646 - val_loss: 39.7817 - val_accuracy: 0.8760\n",
            "Epoch 4/35\n",
            "127/127 [==============================] - 5s 43ms/step - loss: 0.3785 - accuracy: 0.8808 - val_loss: 31.1736 - val_accuracy: 0.8829\n",
            "Epoch 5/35\n",
            "127/127 [==============================] - 8s 62ms/step - loss: 0.3106 - accuracy: 0.9057 - val_loss: 30.1217 - val_accuracy: 0.9085\n",
            "Epoch 6/35\n",
            "127/127 [==============================] - 5s 42ms/step - loss: 0.2701 - accuracy: 0.9183 - val_loss: 28.9546 - val_accuracy: 0.9026\n",
            "Epoch 7/35\n",
            "127/127 [==============================] - 5s 42ms/step - loss: 0.2251 - accuracy: 0.9338 - val_loss: 31.7906 - val_accuracy: 0.9026\n",
            "Epoch 8/35\n",
            "127/127 [==============================] - 5s 43ms/step - loss: 0.2092 - accuracy: 0.9372 - val_loss: 24.5477 - val_accuracy: 0.9055\n",
            "Epoch 9/35\n",
            "127/127 [==============================] - 5s 42ms/step - loss: 0.1813 - accuracy: 0.9468 - val_loss: 49.5429 - val_accuracy: 0.8868\n",
            "Epoch 10/35\n",
            "127/127 [==============================] - 5s 42ms/step - loss: 0.1745 - accuracy: 0.9473 - val_loss: 30.6405 - val_accuracy: 0.9065\n",
            "Epoch 11/35\n",
            "127/127 [==============================] - 5s 42ms/step - loss: 0.1423 - accuracy: 0.9572 - val_loss: 30.8647 - val_accuracy: 0.9075\n",
            "Epoch 12/35\n",
            "127/127 [==============================] - 5s 42ms/step - loss: 0.1325 - accuracy: 0.9618 - val_loss: 34.6857 - val_accuracy: 0.8976\n",
            "Epoch 13/35\n",
            "127/127 [==============================] - 5s 43ms/step - loss: 0.1261 - accuracy: 0.9631 - val_loss: 25.7094 - val_accuracy: 0.8957\n",
            "Epoch 14/35\n",
            "127/127 [==============================] - 5s 43ms/step - loss: 0.1048 - accuracy: 0.9643 - val_loss: 29.7560 - val_accuracy: 0.9173\n",
            "Epoch 15/35\n",
            "127/127 [==============================] - 5s 43ms/step - loss: 0.0986 - accuracy: 0.9695 - val_loss: 40.1558 - val_accuracy: 0.8730\n",
            "Epoch 16/35\n",
            "127/127 [==============================] - 5s 42ms/step - loss: 0.0947 - accuracy: 0.9727 - val_loss: 24.3858 - val_accuracy: 0.9094\n",
            "Epoch 17/35\n",
            "127/127 [==============================] - 5s 42ms/step - loss: 0.0849 - accuracy: 0.9746 - val_loss: 44.7300 - val_accuracy: 0.8652\n",
            "Epoch 18/35\n",
            "127/127 [==============================] - 5s 42ms/step - loss: 0.0764 - accuracy: 0.9749 - val_loss: 64.2214 - val_accuracy: 0.8425\n",
            "Epoch 19/35\n",
            "127/127 [==============================] - 6s 44ms/step - loss: 0.0636 - accuracy: 0.9796 - val_loss: 58.2241 - val_accuracy: 0.8839\n",
            "Epoch 20/35\n",
            "127/127 [==============================] - 5s 42ms/step - loss: 0.0674 - accuracy: 0.9791 - val_loss: 36.5770 - val_accuracy: 0.9183\n",
            "Epoch 21/35\n",
            "127/127 [==============================] - 5s 42ms/step - loss: 0.0618 - accuracy: 0.9813 - val_loss: 41.0726 - val_accuracy: 0.8976\n",
            "Epoch 22/35\n",
            "127/127 [==============================] - 6s 46ms/step - loss: 0.0651 - accuracy: 0.9810 - val_loss: 41.0409 - val_accuracy: 0.8858\n",
            "Epoch 23/35\n",
            "127/127 [==============================] - 5s 42ms/step - loss: 0.0492 - accuracy: 0.9825 - val_loss: 109.3655 - val_accuracy: 0.8278\n",
            "Epoch 24/35\n",
            "127/127 [==============================] - 5s 43ms/step - loss: 0.0571 - accuracy: 0.9838 - val_loss: 76.1896 - val_accuracy: 0.8553\n",
            "Epoch 25/35\n",
            "127/127 [==============================] - 5s 43ms/step - loss: 0.0463 - accuracy: 0.9867 - val_loss: 61.6550 - val_accuracy: 0.8740\n",
            "Epoch 26/35\n",
            "127/127 [==============================] - 5s 43ms/step - loss: 0.0410 - accuracy: 0.9850 - val_loss: 67.1881 - val_accuracy: 0.8287\n",
            "Epoch 27/35\n",
            "127/127 [==============================] - 5s 43ms/step - loss: 0.0436 - accuracy: 0.9879 - val_loss: 57.6870 - val_accuracy: 0.8947\n",
            "Epoch 28/35\n",
            "127/127 [==============================] - 5s 42ms/step - loss: 0.0457 - accuracy: 0.9840 - val_loss: 45.4437 - val_accuracy: 0.8996\n",
            "Epoch 29/35\n",
            "127/127 [==============================] - 5s 43ms/step - loss: 0.0412 - accuracy: 0.9852 - val_loss: 46.6374 - val_accuracy: 0.8967\n",
            "Epoch 30/35\n",
            "127/127 [==============================] - 5s 42ms/step - loss: 0.0423 - accuracy: 0.9874 - val_loss: 31.7686 - val_accuracy: 0.9035\n",
            "Epoch 31/35\n",
            "127/127 [==============================] - 5s 42ms/step - loss: 0.0337 - accuracy: 0.9899 - val_loss: 54.0141 - val_accuracy: 0.8957\n",
            "Epoch 32/35\n",
            "127/127 [==============================] - 5s 43ms/step - loss: 0.0218 - accuracy: 0.9931 - val_loss: 51.3170 - val_accuracy: 0.8927\n",
            "Epoch 33/35\n",
            "127/127 [==============================] - 5s 42ms/step - loss: 0.0292 - accuracy: 0.9902 - val_loss: 70.2080 - val_accuracy: 0.8878\n",
            "Epoch 34/35\n",
            "127/127 [==============================] - 5s 42ms/step - loss: 0.0323 - accuracy: 0.9884 - val_loss: 129.0526 - val_accuracy: 0.7530\n",
            "Epoch 35/35\n",
            "127/127 [==============================] - 5s 42ms/step - loss: 0.0340 - accuracy: 0.9879 - val_loss: 114.4846 - val_accuracy: 0.8337\n"
          ]
        }
      ]
    },
    {
      "cell_type": "code",
      "source": [
        "from numpy.lib.function_base import average\n",
        "time1=(time.time()-tcnn)\n",
        "print(time1)"
      ],
      "metadata": {
        "colab": {
          "base_uri": "https://localhost:8080/"
        },
        "id": "w_Xql68_fD53",
        "outputId": "4884ba49-1ab1-48d5-b71c-db98dac696ae"
      },
      "execution_count": 552,
      "outputs": [
        {
          "output_type": "stream",
          "name": "stdout",
          "text": [
            "201.97470712661743\n"
          ]
        }
      ]
    },
    {
      "cell_type": "code",
      "source": [
        "#Evaluate Training_Date\n",
        "\n",
        "trainD1=cnn.evaluate(X_Train,y_Train)\n",
        "trainD1"
      ],
      "metadata": {
        "colab": {
          "base_uri": "https://localhost:8080/"
        },
        "id": "hTsfBxnH6cA2",
        "outputId": "3700052d-252e-497e-b626-d4d8a27bd37f"
      },
      "execution_count": 553,
      "outputs": [
        {
          "output_type": "stream",
          "name": "stdout",
          "text": [
            "127/127 [==============================] - 2s 16ms/step - loss: 0.0210 - accuracy: 0.9938\n"
          ]
        },
        {
          "output_type": "execute_result",
          "data": {
            "text/plain": [
              "[0.021014634519815445, 0.9938454031944275]"
            ]
          },
          "metadata": {},
          "execution_count": 553
        }
      ]
    },
    {
      "cell_type": "code",
      "source": [
        "train_acc1=trainD1[1]"
      ],
      "metadata": {
        "id": "UFNPBVG6UKfC"
      },
      "execution_count": 554,
      "outputs": []
    },
    {
      "cell_type": "code",
      "source": [
        "#Evaluate Testing_Date\n",
        "\n",
        "testD1=cnn.evaluate(X_test,y_test)\n",
        "testD1"
      ],
      "metadata": {
        "colab": {
          "base_uri": "https://localhost:8080/"
        },
        "id": "5vqIFqMWlN94",
        "outputId": "7eed6131-2411-416c-b722-a0af3aba829a"
      },
      "execution_count": 555,
      "outputs": [
        {
          "output_type": "stream",
          "name": "stdout",
          "text": [
            "40/40 [==============================] - 1s 16ms/step - loss: 0.2742 - accuracy: 0.9543\n"
          ]
        },
        {
          "output_type": "execute_result",
          "data": {
            "text/plain": [
              "[0.2742493748664856, 0.9543306827545166]"
            ]
          },
          "metadata": {},
          "execution_count": 555
        }
      ]
    },
    {
      "cell_type": "code",
      "source": [
        "test_acc1=testD1[1]"
      ],
      "metadata": {
        "id": "XPe8ZktXg_Ur"
      },
      "execution_count": 556,
      "outputs": []
    },
    {
      "cell_type": "code",
      "source": [
        "#Evaluate Validation_Date\n",
        "\n",
        "cnn.evaluate(X_val,y_val)"
      ],
      "metadata": {
        "colab": {
          "base_uri": "https://localhost:8080/"
        },
        "id": "O-Fe6_-GFP2E",
        "outputId": "01f6517d-f099-4c22-eba1-7c512c7250c0"
      },
      "execution_count": 557,
      "outputs": [
        {
          "output_type": "stream",
          "name": "stdout",
          "text": [
            "32/32 [==============================] - 1s 16ms/step - loss: 114.4846 - accuracy: 0.8337\n"
          ]
        },
        {
          "output_type": "execute_result",
          "data": {
            "text/plain": [
              "[114.48458862304688, 0.8336614370346069]"
            ]
          },
          "metadata": {},
          "execution_count": 557
        }
      ]
    },
    {
      "cell_type": "code",
      "source": [
        "#Dilated_CNN Model\n",
        "\n",
        "di = Sequential([\n",
        "    layers.Conv2D(filters=8, kernel_size=(3, 3),padding='same',activation='relu',dilation_rate=2, input_shape=(50, 50,3)),\n",
        "    layers.MaxPooling2D((2, 2)),\n",
        "     layers.Dropout(0.25),\n",
        "     layers.Conv2D(filters=16, kernel_size=(3, 3),padding='same',activation='relu'),\n",
        "    layers.MaxPooling2D((2, 2)),\n",
        "     layers.Dropout(0.25),\n",
        "    \n",
        "\n",
        "\n",
        "   layers.Flatten(),\n",
        "    layers.Dense(256, activation='relu'),\n",
        "    layers.Dense(128, activation='relu'),\n",
        "     layers.Dropout(0.25),\n",
        "    layers.Dense(10, activation='softmax')\n",
        "    \n",
        "])\n",
        "di.summary()"
      ],
      "metadata": {
        "colab": {
          "base_uri": "https://localhost:8080/"
        },
        "id": "LlWkK5pfKZHE",
        "outputId": "6e0a9013-0543-46f2-d0dc-c904d8ba060a"
      },
      "execution_count": 558,
      "outputs": [
        {
          "output_type": "stream",
          "name": "stdout",
          "text": [
            "Model: \"sequential_55\"\n",
            "_________________________________________________________________\n",
            " Layer (type)                Output Shape              Param #   \n",
            "=================================================================\n",
            " conv2d_154 (Conv2D)         (None, 50, 50, 8)         224       \n",
            "                                                                 \n",
            " max_pooling2d_154 (MaxPooli  (None, 25, 25, 8)        0         \n",
            " ng2D)                                                           \n",
            "                                                                 \n",
            " dropout_210 (Dropout)       (None, 25, 25, 8)         0         \n",
            "                                                                 \n",
            " conv2d_155 (Conv2D)         (None, 25, 25, 16)        1168      \n",
            "                                                                 \n",
            " max_pooling2d_155 (MaxPooli  (None, 12, 12, 16)       0         \n",
            " ng2D)                                                           \n",
            "                                                                 \n",
            " dropout_211 (Dropout)       (None, 12, 12, 16)        0         \n",
            "                                                                 \n",
            " flatten_55 (Flatten)        (None, 2304)              0         \n",
            "                                                                 \n",
            " dense_165 (Dense)           (None, 256)               590080    \n",
            "                                                                 \n",
            " dense_166 (Dense)           (None, 128)               32896     \n",
            "                                                                 \n",
            " dropout_212 (Dropout)       (None, 128)               0         \n",
            "                                                                 \n",
            " dense_167 (Dense)           (None, 10)                1290      \n",
            "                                                                 \n",
            "=================================================================\n",
            "Total params: 625,658\n",
            "Trainable params: 625,658\n",
            "Non-trainable params: 0\n",
            "_________________________________________________________________\n"
          ]
        }
      ]
    },
    {
      "cell_type": "code",
      "source": [
        "#time_callback2 = TimeHistory()\n",
        "tdi=time.time()"
      ],
      "metadata": {
        "id": "Inocdskehk-e"
      },
      "execution_count": 559,
      "outputs": []
    },
    {
      "cell_type": "code",
      "source": [
        "adm=optimizers.Adam(learning_rate=0.001)\n",
        "di.compile(optimizer=adm,\n",
        "          loss='sparse_categorical_crossentropy',\n",
        "      metrics=['accuracy'])"
      ],
      "metadata": {
        "id": "LGXjpTA2KZKC"
      },
      "execution_count": 560,
      "outputs": []
    },
    {
      "cell_type": "code",
      "source": [
        "history2=di.fit(X_Train,y_Train,validation_data = (X_val,y_val),verbose='auto',epochs=35,batch_size=32)"
      ],
      "metadata": {
        "colab": {
          "base_uri": "https://localhost:8080/"
        },
        "id": "a7FCb0ztKZP3",
        "outputId": "09179988-0871-4758-8322-ea99e3a8b576"
      },
      "execution_count": 561,
      "outputs": [
        {
          "output_type": "stream",
          "name": "stdout",
          "text": [
            "Epoch 1/35\n",
            "127/127 [==============================] - 6s 46ms/step - loss: 1.0344 - accuracy: 0.6709 - val_loss: 45.6834 - val_accuracy: 0.8278\n",
            "Epoch 2/35\n",
            "127/127 [==============================] - 6s 45ms/step - loss: 0.5750 - accuracy: 0.8257 - val_loss: 32.7602 - val_accuracy: 0.8642\n",
            "Epoch 3/35\n",
            "127/127 [==============================] - 6s 45ms/step - loss: 0.4491 - accuracy: 0.8644 - val_loss: 38.8006 - val_accuracy: 0.8770\n",
            "Epoch 4/35\n",
            "127/127 [==============================] - 6s 45ms/step - loss: 0.3860 - accuracy: 0.8808 - val_loss: 34.7047 - val_accuracy: 0.8632\n",
            "Epoch 5/35\n",
            "127/127 [==============================] - 6s 44ms/step - loss: 0.3305 - accuracy: 0.9015 - val_loss: 27.1021 - val_accuracy: 0.9055\n",
            "Epoch 6/35\n",
            "127/127 [==============================] - 6s 44ms/step - loss: 0.2767 - accuracy: 0.9121 - val_loss: 36.7304 - val_accuracy: 0.8868\n",
            "Epoch 7/35\n",
            "127/127 [==============================] - 6s 44ms/step - loss: 0.2322 - accuracy: 0.9291 - val_loss: 30.4611 - val_accuracy: 0.9104\n",
            "Epoch 8/35\n",
            "127/127 [==============================] - 6s 45ms/step - loss: 0.2199 - accuracy: 0.9357 - val_loss: 30.7578 - val_accuracy: 0.9075\n",
            "Epoch 9/35\n",
            "127/127 [==============================] - 6s 44ms/step - loss: 0.1815 - accuracy: 0.9429 - val_loss: 35.1707 - val_accuracy: 0.9213\n",
            "Epoch 10/35\n",
            "127/127 [==============================] - 6s 44ms/step - loss: 0.1638 - accuracy: 0.9493 - val_loss: 29.2366 - val_accuracy: 0.9104\n",
            "Epoch 11/35\n",
            "127/127 [==============================] - 6s 44ms/step - loss: 0.1472 - accuracy: 0.9586 - val_loss: 29.6755 - val_accuracy: 0.9144\n",
            "Epoch 12/35\n",
            "127/127 [==============================] - 6s 45ms/step - loss: 0.1238 - accuracy: 0.9623 - val_loss: 30.1098 - val_accuracy: 0.9213\n",
            "Epoch 13/35\n",
            "127/127 [==============================] - 6s 44ms/step - loss: 0.1089 - accuracy: 0.9695 - val_loss: 36.9982 - val_accuracy: 0.9272\n",
            "Epoch 14/35\n",
            "127/127 [==============================] - 6s 44ms/step - loss: 0.1014 - accuracy: 0.9685 - val_loss: 29.5513 - val_accuracy: 0.9193\n",
            "Epoch 15/35\n",
            "127/127 [==============================] - 6s 44ms/step - loss: 0.0976 - accuracy: 0.9705 - val_loss: 36.8950 - val_accuracy: 0.9154\n",
            "Epoch 16/35\n",
            "127/127 [==============================] - 6s 44ms/step - loss: 0.0903 - accuracy: 0.9729 - val_loss: 36.9862 - val_accuracy: 0.9341\n",
            "Epoch 17/35\n",
            "127/127 [==============================] - 6s 44ms/step - loss: 0.0794 - accuracy: 0.9791 - val_loss: 27.4163 - val_accuracy: 0.9183\n",
            "Epoch 18/35\n",
            "127/127 [==============================] - 6s 44ms/step - loss: 0.0611 - accuracy: 0.9818 - val_loss: 35.6303 - val_accuracy: 0.9134\n",
            "Epoch 19/35\n",
            "127/127 [==============================] - 6s 44ms/step - loss: 0.0655 - accuracy: 0.9806 - val_loss: 37.5143 - val_accuracy: 0.8957\n",
            "Epoch 20/35\n",
            "127/127 [==============================] - 6s 44ms/step - loss: 0.0564 - accuracy: 0.9823 - val_loss: 46.3191 - val_accuracy: 0.9213\n",
            "Epoch 21/35\n",
            "127/127 [==============================] - 6s 44ms/step - loss: 0.0554 - accuracy: 0.9803 - val_loss: 42.0425 - val_accuracy: 0.9262\n",
            "Epoch 22/35\n",
            "127/127 [==============================] - 6s 44ms/step - loss: 0.0456 - accuracy: 0.9855 - val_loss: 26.6670 - val_accuracy: 0.9419\n",
            "Epoch 23/35\n",
            "127/127 [==============================] - 6s 44ms/step - loss: 0.0518 - accuracy: 0.9855 - val_loss: 34.4250 - val_accuracy: 0.9429\n",
            "Epoch 24/35\n",
            "127/127 [==============================] - 6s 44ms/step - loss: 0.0389 - accuracy: 0.9894 - val_loss: 58.6104 - val_accuracy: 0.8927\n",
            "Epoch 25/35\n",
            "127/127 [==============================] - 6s 44ms/step - loss: 0.0314 - accuracy: 0.9919 - val_loss: 57.4013 - val_accuracy: 0.9094\n",
            "Epoch 26/35\n",
            "127/127 [==============================] - 6s 44ms/step - loss: 0.0449 - accuracy: 0.9874 - val_loss: 44.0435 - val_accuracy: 0.9400\n",
            "Epoch 27/35\n",
            "127/127 [==============================] - 6s 44ms/step - loss: 0.0317 - accuracy: 0.9899 - val_loss: 42.6536 - val_accuracy: 0.9390\n",
            "Epoch 28/35\n",
            "127/127 [==============================] - 6s 44ms/step - loss: 0.0323 - accuracy: 0.9906 - val_loss: 44.9966 - val_accuracy: 0.9380\n",
            "Epoch 29/35\n",
            "127/127 [==============================] - 6s 45ms/step - loss: 0.0436 - accuracy: 0.9852 - val_loss: 30.6709 - val_accuracy: 0.9390\n",
            "Epoch 30/35\n",
            "127/127 [==============================] - 6s 44ms/step - loss: 0.0281 - accuracy: 0.9909 - val_loss: 44.6156 - val_accuracy: 0.9498\n",
            "Epoch 31/35\n",
            "127/127 [==============================] - 6s 44ms/step - loss: 0.0460 - accuracy: 0.9877 - val_loss: 56.2136 - val_accuracy: 0.9429\n",
            "Epoch 32/35\n",
            "127/127 [==============================] - 6s 44ms/step - loss: 0.0305 - accuracy: 0.9894 - val_loss: 42.2168 - val_accuracy: 0.9360\n",
            "Epoch 33/35\n",
            "127/127 [==============================] - 6s 44ms/step - loss: 0.0233 - accuracy: 0.9924 - val_loss: 57.7947 - val_accuracy: 0.9085\n",
            "Epoch 34/35\n",
            "127/127 [==============================] - 6s 44ms/step - loss: 0.0411 - accuracy: 0.9860 - val_loss: 35.1916 - val_accuracy: 0.9429\n",
            "Epoch 35/35\n",
            "127/127 [==============================] - 6s 44ms/step - loss: 0.0272 - accuracy: 0.9897 - val_loss: 34.1548 - val_accuracy: 0.9400\n"
          ]
        }
      ]
    },
    {
      "cell_type": "code",
      "source": [
        "time2=(time.time()-tdi)\n",
        "print(time2)"
      ],
      "metadata": {
        "colab": {
          "base_uri": "https://localhost:8080/"
        },
        "id": "ohjS2-P9jwYK",
        "outputId": "413d5563-5550-4043-a26d-696bbef9aa43"
      },
      "execution_count": 562,
      "outputs": [
        {
          "output_type": "stream",
          "name": "stdout",
          "text": [
            "206.64966583251953\n"
          ]
        }
      ]
    },
    {
      "cell_type": "code",
      "source": [
        "#Evaluate Training_Date\n",
        "\n",
        "trainD2=di.evaluate(X_Train,y_Train)\n",
        "trainD2"
      ],
      "metadata": {
        "colab": {
          "base_uri": "https://localhost:8080/"
        },
        "id": "RrbpDi52KZUp",
        "outputId": "e07a14cb-02cc-48db-860e-5721d0d37c13"
      },
      "execution_count": 563,
      "outputs": [
        {
          "output_type": "stream",
          "name": "stdout",
          "text": [
            "127/127 [==============================] - 2s 17ms/step - loss: 0.0122 - accuracy: 0.9966\n"
          ]
        },
        {
          "output_type": "execute_result",
          "data": {
            "text/plain": [
              "[0.012183218263089657, 0.9965534210205078]"
            ]
          },
          "metadata": {},
          "execution_count": 563
        }
      ]
    },
    {
      "cell_type": "code",
      "source": [
        "train_acc2=trainD2[1]"
      ],
      "metadata": {
        "id": "_Xq1rr_sioWI"
      },
      "execution_count": 564,
      "outputs": []
    },
    {
      "cell_type": "code",
      "source": [
        "#Evaluate Testing_Date\n",
        "\n",
        "testD2=di.evaluate(X_test,y_test)"
      ],
      "metadata": {
        "colab": {
          "base_uri": "https://localhost:8080/"
        },
        "id": "upwjdYFrKZcF",
        "outputId": "af9280a2-7d5b-4ba5-e02e-41d2e3f689d6"
      },
      "execution_count": 565,
      "outputs": [
        {
          "output_type": "stream",
          "name": "stdout",
          "text": [
            "40/40 [==============================] - 1s 17ms/step - loss: 0.2588 - accuracy: 0.9488\n"
          ]
        }
      ]
    },
    {
      "cell_type": "code",
      "source": [
        "test_acc2=testD2[1]"
      ],
      "metadata": {
        "id": "0qRseGyIi2c1"
      },
      "execution_count": 566,
      "outputs": []
    },
    {
      "cell_type": "code",
      "source": [
        "#Evaluate Validation_Date\n",
        "\n",
        "di.evaluate(X_val,y_val)"
      ],
      "metadata": {
        "colab": {
          "base_uri": "https://localhost:8080/"
        },
        "id": "d0jql3qMFb0M",
        "outputId": "6db30b9c-1f57-4ae9-ef21-a0d817858f02"
      },
      "execution_count": 567,
      "outputs": [
        {
          "output_type": "stream",
          "name": "stdout",
          "text": [
            "32/32 [==============================] - 1s 16ms/step - loss: 34.1548 - accuracy: 0.9400\n"
          ]
        },
        {
          "output_type": "execute_result",
          "data": {
            "text/plain": [
              "[34.154815673828125, 0.9399606585502625]"
            ]
          },
          "metadata": {},
          "execution_count": 567
        }
      ]
    },
    {
      "cell_type": "code",
      "source": [
        "#HDC Model\n",
        "from sklearn.neural_network import MLPClassifier\n",
        "\n",
        "hdc = Sequential([\n",
        "    layers.Conv2D(filters=8, kernel_size=(3, 3),padding='same',activation='relu',dilation_rate=2, input_shape=(50,50,3)),\n",
        "    layers.MaxPooling2D((2, 2)),\n",
        "    layers.Dropout(0.25),\n",
        "\n",
        "    layers.Conv2D(filters=16, kernel_size=(3, 3),padding='same',activation='relu',dilation_rate=3),\n",
        "    layers.MaxPooling2D((2, 2)),\n",
        "    layers.Dropout(0.25),\n",
        "\n",
        " \n",
        "\n",
        "\n",
        "   layers.Flatten(),\n",
        "    layers.Dense(256, activation='relu'),\n",
        "    layers.Dense(128, activation='relu'),\n",
        "    layers.Dropout(0.25),\n",
        "    layers.Dense(10, activation='softmax')\n",
        "    \n",
        "])\n",
        "hdc.summary()"
      ],
      "metadata": {
        "colab": {
          "base_uri": "https://localhost:8080/"
        },
        "id": "j7hU7qWoBnUZ",
        "outputId": "795fdf1d-5fa6-4b9e-edd4-4d56582a1c1e"
      },
      "execution_count": 495,
      "outputs": [
        {
          "output_type": "stream",
          "name": "stdout",
          "text": [
            "Model: \"sequential_50\"\n",
            "_________________________________________________________________\n",
            " Layer (type)                Output Shape              Param #   \n",
            "=================================================================\n",
            " conv2d_144 (Conv2D)         (None, 50, 50, 8)         224       \n",
            "                                                                 \n",
            " max_pooling2d_144 (MaxPooli  (None, 25, 25, 8)        0         \n",
            " ng2D)                                                           \n",
            "                                                                 \n",
            " dropout_195 (Dropout)       (None, 25, 25, 8)         0         \n",
            "                                                                 \n",
            " conv2d_145 (Conv2D)         (None, 25, 25, 16)        1168      \n",
            "                                                                 \n",
            " max_pooling2d_145 (MaxPooli  (None, 12, 12, 16)       0         \n",
            " ng2D)                                                           \n",
            "                                                                 \n",
            " dropout_196 (Dropout)       (None, 12, 12, 16)        0         \n",
            "                                                                 \n",
            " flatten_50 (Flatten)        (None, 2304)              0         \n",
            "                                                                 \n",
            " dense_150 (Dense)           (None, 256)               590080    \n",
            "                                                                 \n",
            " dense_151 (Dense)           (None, 128)               32896     \n",
            "                                                                 \n",
            " dropout_197 (Dropout)       (None, 128)               0         \n",
            "                                                                 \n",
            " dense_152 (Dense)           (None, 10)                1290      \n",
            "                                                                 \n",
            "=================================================================\n",
            "Total params: 625,658\n",
            "Trainable params: 625,658\n",
            "Non-trainable params: 0\n",
            "_________________________________________________________________\n"
          ]
        }
      ]
    },
    {
      "cell_type": "code",
      "source": [
        "#time_callback3 = TimeHistory()\n",
        "thdc=time.time()"
      ],
      "metadata": {
        "id": "SAUQHbpriG-u"
      },
      "execution_count": 496,
      "outputs": []
    },
    {
      "cell_type": "code",
      "source": [
        "adm=optimizers.Adam(learning_rate=0.001)\n",
        "hdc.compile(optimizer=adm,\n",
        "          loss='sparse_categorical_crossentropy',\n",
        "      metrics=['accuracy'])\n",
        "     "
      ],
      "metadata": {
        "id": "rURoP8H_BncD"
      },
      "execution_count": 497,
      "outputs": []
    },
    {
      "cell_type": "code",
      "source": [
        "history3=hdc.fit(X_Train,y_Train,validation_data = (X_val,y_val),verbose='auto',epochs=35,batch_size=32)"
      ],
      "metadata": {
        "colab": {
          "base_uri": "https://localhost:8080/"
        },
        "id": "6RD5r64EBni0",
        "outputId": "3a994b0d-484c-4134-942f-14c41b791d5f"
      },
      "execution_count": 498,
      "outputs": [
        {
          "output_type": "stream",
          "name": "stdout",
          "text": [
            "Epoch 1/35\n",
            "127/127 [==============================] - 7s 48ms/step - loss: 1.0489 - accuracy: 0.6733 - val_loss: 37.2115 - val_accuracy: 0.7766\n",
            "Epoch 2/35\n",
            "127/127 [==============================] - 6s 48ms/step - loss: 0.5681 - accuracy: 0.8203 - val_loss: 28.1798 - val_accuracy: 0.8514\n",
            "Epoch 3/35\n",
            "127/127 [==============================] - 6s 47ms/step - loss: 0.4370 - accuracy: 0.8708 - val_loss: 22.9622 - val_accuracy: 0.8898\n",
            "Epoch 4/35\n",
            "127/127 [==============================] - 6s 47ms/step - loss: 0.3759 - accuracy: 0.8880 - val_loss: 70.6662 - val_accuracy: 0.7421\n",
            "Epoch 5/35\n",
            "127/127 [==============================] - 6s 48ms/step - loss: 0.3232 - accuracy: 0.9028 - val_loss: 34.8482 - val_accuracy: 0.8287\n",
            "Epoch 6/35\n",
            "127/127 [==============================] - 6s 47ms/step - loss: 0.2700 - accuracy: 0.9195 - val_loss: 29.7350 - val_accuracy: 0.8839\n",
            "Epoch 7/35\n",
            "127/127 [==============================] - 6s 47ms/step - loss: 0.2351 - accuracy: 0.9286 - val_loss: 30.3363 - val_accuracy: 0.8789\n",
            "Epoch 8/35\n",
            "127/127 [==============================] - 6s 48ms/step - loss: 0.2068 - accuracy: 0.9350 - val_loss: 25.0497 - val_accuracy: 0.9035\n",
            "Epoch 9/35\n",
            "127/127 [==============================] - 7s 58ms/step - loss: 0.1780 - accuracy: 0.9485 - val_loss: 28.5599 - val_accuracy: 0.8612\n",
            "Epoch 10/35\n",
            "127/127 [==============================] - 6s 47ms/step - loss: 0.1659 - accuracy: 0.9490 - val_loss: 19.9562 - val_accuracy: 0.9114\n",
            "Epoch 11/35\n",
            "127/127 [==============================] - 6s 47ms/step - loss: 0.1483 - accuracy: 0.9535 - val_loss: 30.0817 - val_accuracy: 0.8917\n",
            "Epoch 12/35\n",
            "127/127 [==============================] - 6s 47ms/step - loss: 0.1166 - accuracy: 0.9648 - val_loss: 28.5024 - val_accuracy: 0.8927\n",
            "Epoch 13/35\n",
            "127/127 [==============================] - 6s 47ms/step - loss: 0.1192 - accuracy: 0.9626 - val_loss: 24.8342 - val_accuracy: 0.9104\n",
            "Epoch 14/35\n",
            "127/127 [==============================] - 6s 46ms/step - loss: 0.1026 - accuracy: 0.9668 - val_loss: 32.5893 - val_accuracy: 0.8986\n",
            "Epoch 15/35\n",
            "127/127 [==============================] - 6s 47ms/step - loss: 0.0956 - accuracy: 0.9690 - val_loss: 27.6529 - val_accuracy: 0.8917\n",
            "Epoch 16/35\n",
            "127/127 [==============================] - 6s 47ms/step - loss: 0.0884 - accuracy: 0.9732 - val_loss: 33.8615 - val_accuracy: 0.8829\n",
            "Epoch 17/35\n",
            "127/127 [==============================] - 6s 49ms/step - loss: 0.0815 - accuracy: 0.9749 - val_loss: 39.2703 - val_accuracy: 0.8937\n",
            "Epoch 18/35\n",
            "127/127 [==============================] - 6s 47ms/step - loss: 0.0764 - accuracy: 0.9756 - val_loss: 43.5121 - val_accuracy: 0.8780\n",
            "Epoch 19/35\n",
            "127/127 [==============================] - 6s 47ms/step - loss: 0.0650 - accuracy: 0.9808 - val_loss: 33.7223 - val_accuracy: 0.9183\n",
            "Epoch 20/35\n",
            "127/127 [==============================] - 6s 46ms/step - loss: 0.0521 - accuracy: 0.9840 - val_loss: 40.9545 - val_accuracy: 0.9134\n",
            "Epoch 21/35\n",
            "127/127 [==============================] - 6s 47ms/step - loss: 0.0610 - accuracy: 0.9806 - val_loss: 39.6589 - val_accuracy: 0.9035\n",
            "Epoch 22/35\n",
            "127/127 [==============================] - 6s 47ms/step - loss: 0.0508 - accuracy: 0.9840 - val_loss: 48.8746 - val_accuracy: 0.8878\n",
            "Epoch 23/35\n",
            "127/127 [==============================] - 6s 47ms/step - loss: 0.0501 - accuracy: 0.9850 - val_loss: 40.3244 - val_accuracy: 0.8967\n",
            "Epoch 24/35\n",
            "127/127 [==============================] - 6s 47ms/step - loss: 0.0533 - accuracy: 0.9830 - val_loss: 36.7256 - val_accuracy: 0.9134\n",
            "Epoch 25/35\n",
            "127/127 [==============================] - 6s 47ms/step - loss: 0.0414 - accuracy: 0.9877 - val_loss: 59.2864 - val_accuracy: 0.8720\n",
            "Epoch 26/35\n",
            "127/127 [==============================] - 6s 47ms/step - loss: 0.0444 - accuracy: 0.9857 - val_loss: 44.9118 - val_accuracy: 0.9085\n",
            "Epoch 27/35\n",
            "127/127 [==============================] - 6s 47ms/step - loss: 0.0434 - accuracy: 0.9872 - val_loss: 39.0719 - val_accuracy: 0.9114\n",
            "Epoch 28/35\n",
            "127/127 [==============================] - 6s 47ms/step - loss: 0.0486 - accuracy: 0.9830 - val_loss: 56.7400 - val_accuracy: 0.8425\n",
            "Epoch 29/35\n",
            "127/127 [==============================] - 6s 48ms/step - loss: 0.0381 - accuracy: 0.9884 - val_loss: 68.9629 - val_accuracy: 0.8504\n",
            "Epoch 30/35\n",
            "127/127 [==============================] - 6s 47ms/step - loss: 0.0340 - accuracy: 0.9899 - val_loss: 53.6818 - val_accuracy: 0.8937\n",
            "Epoch 31/35\n",
            "127/127 [==============================] - 6s 47ms/step - loss: 0.0398 - accuracy: 0.9872 - val_loss: 45.6688 - val_accuracy: 0.9154\n",
            "Epoch 32/35\n",
            "127/127 [==============================] - 6s 47ms/step - loss: 0.0442 - accuracy: 0.9877 - val_loss: 88.0445 - val_accuracy: 0.8287\n",
            "Epoch 33/35\n",
            "127/127 [==============================] - 6s 47ms/step - loss: 0.0362 - accuracy: 0.9874 - val_loss: 54.1342 - val_accuracy: 0.8819\n",
            "Epoch 34/35\n",
            "127/127 [==============================] - 6s 47ms/step - loss: 0.0320 - accuracy: 0.9911 - val_loss: 72.1861 - val_accuracy: 0.8681\n",
            "Epoch 35/35\n",
            "127/127 [==============================] - 6s 48ms/step - loss: 0.0314 - accuracy: 0.9894 - val_loss: 44.7980 - val_accuracy: 0.9075\n"
          ]
        }
      ]
    },
    {
      "cell_type": "code",
      "source": [
        "time3=(time.time()-thdc)\n",
        "print(time3)"
      ],
      "metadata": {
        "colab": {
          "base_uri": "https://localhost:8080/"
        },
        "id": "PKKdEewqj00r",
        "outputId": "72986925-6c30-42e8-fde6-627ba2de41fb"
      },
      "execution_count": 499,
      "outputs": [
        {
          "output_type": "stream",
          "name": "stdout",
          "text": [
            "349.05693340301514\n"
          ]
        }
      ]
    },
    {
      "cell_type": "code",
      "source": [
        "#Evaluate Training_Date\n",
        "\n",
        "trainD3=hdc.evaluate(X_Train,y_Train)\n",
        "trainD3"
      ],
      "metadata": {
        "colab": {
          "base_uri": "https://localhost:8080/"
        },
        "id": "_wcNZeUdBnp9",
        "outputId": "15c563dc-1b31-4a80-8432-683bc58db0ad"
      },
      "execution_count": 500,
      "outputs": [
        {
          "output_type": "stream",
          "name": "stdout",
          "text": [
            "127/127 [==============================] - 4s 30ms/step - loss: 0.0163 - accuracy: 0.9963\n"
          ]
        },
        {
          "output_type": "execute_result",
          "data": {
            "text/plain": [
              "[0.016346564516425133, 0.9963072538375854]"
            ]
          },
          "metadata": {},
          "execution_count": 500
        }
      ]
    },
    {
      "cell_type": "code",
      "source": [
        "train_acc3=trainD3[1]"
      ],
      "metadata": {
        "id": "_O7noQINjK8o"
      },
      "execution_count": 501,
      "outputs": []
    },
    {
      "cell_type": "code",
      "source": [
        "#Evaluate Testing_Date\n",
        "\n",
        "testD3=hdc.evaluate(X_test,y_test)\n",
        "testD3"
      ],
      "metadata": {
        "colab": {
          "base_uri": "https://localhost:8080/"
        },
        "id": "VbjGXEv7Bn0H",
        "outputId": "373076ed-f180-4985-ee2b-816037be0d74"
      },
      "execution_count": 502,
      "outputs": [
        {
          "output_type": "stream",
          "name": "stdout",
          "text": [
            "40/40 [==============================] - 1s 36ms/step - loss: 0.1352 - accuracy: 0.9717\n"
          ]
        },
        {
          "output_type": "execute_result",
          "data": {
            "text/plain": [
              "[0.1351684182882309, 0.9716535210609436]"
            ]
          },
          "metadata": {},
          "execution_count": 502
        }
      ]
    },
    {
      "cell_type": "code",
      "source": [
        "test_acc3=testD3[1]"
      ],
      "metadata": {
        "id": "x9D5iJ9GjVqk"
      },
      "execution_count": 503,
      "outputs": []
    },
    {
      "cell_type": "code",
      "source": [
        "#Evaluate Validation_Date\n",
        "\n",
        "hdc.evaluate(X_val,y_val)"
      ],
      "metadata": {
        "colab": {
          "base_uri": "https://localhost:8080/"
        },
        "id": "7vSQYEpQFeXB",
        "outputId": "eff0c6a5-3d63-4a81-c755-ba13f97e4984"
      },
      "execution_count": 504,
      "outputs": [
        {
          "output_type": "stream",
          "name": "stdout",
          "text": [
            "32/32 [==============================] - 1s 17ms/step - loss: 44.7980 - accuracy: 0.9075\n"
          ]
        },
        {
          "output_type": "execute_result",
          "data": {
            "text/plain": [
              "[44.7979621887207, 0.9074802994728088]"
            ]
          },
          "metadata": {},
          "execution_count": 504
        }
      ]
    },
    {
      "cell_type": "markdown",
      "source": [
        "CNN_Predict"
      ],
      "metadata": {
        "id": "Y0JaxFC_8UKB"
      }
    },
    {
      "cell_type": "code",
      "source": [
        "#Predict data cnn\n",
        "\n",
        "y_pred_cnn = cnn.predict(X_test)\n",
        "y_pred_classes_cnn = [np.argmax(element) for element in y_pred_cnn]\n",
        "y_pred_classes_cnn[:5]"
      ],
      "metadata": {
        "colab": {
          "base_uri": "https://localhost:8080/"
        },
        "id": "BqJ9uCKelQcB",
        "outputId": "1ac0453e-f805-431f-a0eb-98e293f9f8ad"
      },
      "execution_count": 568,
      "outputs": [
        {
          "output_type": "execute_result",
          "data": {
            "text/plain": [
              "[2, 0, 0, 2, 0]"
            ]
          },
          "metadata": {},
          "execution_count": 568
        }
      ]
    },
    {
      "cell_type": "code",
      "source": [
        "predictions_cnn=cnn.predict(X_test)\n",
        "predictions_cnn"
      ],
      "metadata": {
        "colab": {
          "base_uri": "https://localhost:8080/"
        },
        "id": "M_Mg0BtTlUXp",
        "outputId": "0c72f2c3-9849-4c2e-fe05-da86a73192d5"
      },
      "execution_count": 569,
      "outputs": [
        {
          "output_type": "execute_result",
          "data": {
            "text/plain": [
              "array([[ 0.0,  0.0,  1.0, ...,  0.0,  0.0,  0.0],\n",
              "       [ 1.0,  0.0,  0.0, ...,  0.0,  0.0,  0.0],\n",
              "       [ 1.0,  0.0,  0.0, ...,  0.0,  0.0,  0.0],\n",
              "       ...,\n",
              "       [ 0.0,  0.0,  1.0, ...,  0.0,  0.0,  0.0],\n",
              "       [ 0.7,  0.1,  0.1, ...,  0.0,  0.0,  0.0],\n",
              "       [ 0.0,  0.0,  1.0, ...,  0.0,  0.0,  0.0]], dtype=float32)"
            ]
          },
          "metadata": {},
          "execution_count": 569
        }
      ]
    },
    {
      "cell_type": "code",
      "source": [
        "y_predicted_labels_cnn = [np.argmax(i) for i in y_pred_cnn]"
      ],
      "metadata": {
        "id": "g6ETpnRXlZAV"
      },
      "execution_count": 570,
      "outputs": []
    },
    {
      "cell_type": "code",
      "source": [
        "score=tf.nn.softmax(predictions_cnn[0])\n",
        "score\n",
        "np.argmax(score)"
      ],
      "metadata": {
        "colab": {
          "base_uri": "https://localhost:8080/"
        },
        "id": "nhcFSNxslcYD",
        "outputId": "a63c75cb-ba45-4e74-9c89-37146f32ea93"
      },
      "execution_count": 571,
      "outputs": [
        {
          "output_type": "execute_result",
          "data": {
            "text/plain": [
              "2"
            ]
          },
          "metadata": {},
          "execution_count": 571
        }
      ]
    },
    {
      "cell_type": "code",
      "source": [
        "plt.imshow(X_test[0])"
      ],
      "metadata": {
        "colab": {
          "base_uri": "https://localhost:8080/",
          "height": 285
        },
        "id": "ypKrmeyillox",
        "outputId": "cee059f5-3988-4791-d19e-a8ce69f3da88"
      },
      "execution_count": 572,
      "outputs": [
        {
          "output_type": "execute_result",
          "data": {
            "text/plain": [
              "<matplotlib.image.AxesImage at 0x7fcb1b03f410>"
            ]
          },
          "metadata": {},
          "execution_count": 572
        },
        {
          "output_type": "display_data",
          "data": {
            "text/plain": [
              "<Figure size 432x288 with 1 Axes>"
            ],
            "image/png": "[encoded data removed]"
          },
          "metadata": {
            "needs_background": "light"
          }
        }
      ]
    },
    {
      "cell_type": "markdown",
      "source": [
        "CNN_ConfutionMatrix\n"
      ],
      "metadata": {
        "id": "Fd2XZCi8Aaep"
      }
    },
    {
      "cell_type": "code",
      "source": [
        "#Confusion Matrix\n",
        "\n",
        "from sklearn.metrics import confusion_matrix, accuracy_score\n",
        "cm = tf.math.confusion_matrix(labels=y_test,predictions=y_predicted_labels_cnn)\n",
        "print(cm)\n",
        "accuracy_score(y_test, y_predicted_labels_cnn)"
      ],
      "metadata": {
        "colab": {
          "base_uri": "https://localhost:8080/"
        },
        "id": "rQrCHL4Zlly7",
        "outputId": "83db3d1a-c166-43a3-ddd3-d05f078d35c7"
      },
      "execution_count": 573,
      "outputs": [
        {
          "output_type": "stream",
          "name": "stdout",
          "text": [
            "tf.Tensor(\n",
            "[[234   0   7   1   0   2   0   0   0   0]\n",
            " [  0  43   9   0   0   2   0   0   0   0]\n",
            " [ 12   4 648   0   1   3   0   0   0   0]\n",
            " [  0   0   3  38   1   0   0   0   0   0]\n",
            " [  4   0   0   2  24   0   0   0   0   0]\n",
            " [  1   2   0   0   0  95   0   0   0   0]\n",
            " [  1   0   1   0   0   0  65   0   0   0]\n",
            " [  0   0   0   0   0   0   0  24   0   0]\n",
            " [  1   0   1   0   0   0   0   0  16   0]\n",
            " [  0   0   0   0   0   0   0   0   0  25]], shape=(10, 10), dtype=int32)\n"
          ]
        },
        {
          "output_type": "execute_result",
          "data": {
            "text/plain": [
              "0.9543307086614173"
            ]
          },
          "metadata": {},
          "execution_count": 573
        }
      ]
    },
    {
      "cell_type": "markdown",
      "source": [
        "CNN_ROC"
      ],
      "metadata": {
        "id": "30Nqp-O4B-u0"
      }
    },
    {
      "cell_type": "code",
      "source": [
        "#ROC Model\n",
        "\n",
        "from sklearn.metrics import roc_curve, auc\n",
        "import matplotlib.pyplot as plt\n",
        "from collections import Counter\n",
        "\n",
        "y_pred1 = cnn.predict(X_test)\n",
        "y_pred1=[np.argmax(i) for i in y_pred1]\n",
        "\n",
        "plt.figure(figsize=(10,5))\n",
        "\n",
        "\n",
        "for i in range(10):\n",
        "    nn_fpr_keras, nn_tpr_keras, nn_thresholds_keras = roc_curve(y_test  , y_pred1, pos_label=i)\n",
        "    auc_keras = auc(nn_fpr_keras, nn_tpr_keras)\n",
        "    plt.plot(nn_fpr_keras, nn_tpr_keras,marker='.'.format(), label='class # %0.f' % i)\n",
        "    \n",
        "plt.legend(loc=\"lower right\")"
      ],
      "metadata": {
        "colab": {
          "base_uri": "https://localhost:8080/",
          "height": 338
        },
        "id": "nsDyBnWwll4E",
        "outputId": "a769c774-27fc-4b53-e9dc-1f65b22029ca"
      },
      "execution_count": 574,
      "outputs": [
        {
          "output_type": "execute_result",
          "data": {
            "text/plain": [
              "<matplotlib.legend.Legend at 0x7fcb1abadc10>"
            ]
          },
          "metadata": {},
          "execution_count": 574
        },
        {
          "output_type": "display_data",
          "data": {
            "text/plain": [
              "<Figure size 720x360 with 1 Axes>"
            ],
            "image/png": "[encoded data removed]"
          },
          "metadata": {
            "needs_background": "light"
          }
        }
      ]
    },
    {
      "cell_type": "markdown",
      "source": [
        "DCNN_Predict\n"
      ],
      "metadata": {
        "id": "UJBFXWGtBYZr"
      }
    },
    {
      "cell_type": "code",
      "source": [
        "y_pred_dcnn = di.predict(X_test)\n",
        "y_pred_classes_dcnn = [np.argmax(element) for element in y_pred_dcnn]\n",
        "y_pred_classes_dcnn[:5]"
      ],
      "metadata": {
        "colab": {
          "base_uri": "https://localhost:8080/"
        },
        "id": "A9FjzotbBdXF",
        "outputId": "26f03e49-8497-4a59-c399-e45c2358ee5c"
      },
      "execution_count": 575,
      "outputs": [
        {
          "output_type": "execute_result",
          "data": {
            "text/plain": [
              "[2, 0, 0, 2, 0]"
            ]
          },
          "metadata": {},
          "execution_count": 575
        }
      ]
    },
    {
      "cell_type": "code",
      "source": [
        "predictions_dcnn=di.predict(X_test)\n",
        "predictions_dcnn"
      ],
      "metadata": {
        "colab": {
          "base_uri": "https://localhost:8080/"
        },
        "id": "Bs53dNeQIQe1",
        "outputId": "a64ec650-a7b4-4f97-b81a-4b1d7c04853b"
      },
      "execution_count": 576,
      "outputs": [
        {
          "output_type": "execute_result",
          "data": {
            "text/plain": [
              "array([[ 0.0,  0.0,  1.0, ...,  0.0,  0.0,  0.0],\n",
              "       [ 1.0,  0.0,  0.0, ...,  0.0,  0.0,  0.0],\n",
              "       [ 1.0,  0.0,  0.0, ...,  0.0,  0.0,  0.0],\n",
              "       ...,\n",
              "       [ 0.0,  0.0,  1.0, ...,  0.0,  0.0,  0.0],\n",
              "       [ 0.9,  0.0,  0.0, ...,  0.0,  0.0,  0.0],\n",
              "       [ 0.0,  0.0,  1.0, ...,  0.0,  0.0,  0.0]], dtype=float32)"
            ]
          },
          "metadata": {},
          "execution_count": 576
        }
      ]
    },
    {
      "cell_type": "code",
      "source": [
        "y_predicted_labels_dcnn = [np.argmax(i) for i in y_pred_dcnn]"
      ],
      "metadata": {
        "id": "Znr4CQnjBdt_"
      },
      "execution_count": 577,
      "outputs": []
    },
    {
      "cell_type": "code",
      "source": [
        "score=tf.nn.softmax(predictions_dcnn[0])\n",
        "score\n",
        "np.argmax(score)"
      ],
      "metadata": {
        "colab": {
          "base_uri": "https://localhost:8080/"
        },
        "id": "huRJSw1WBdxj",
        "outputId": "7fd3c180-200a-4b4f-cca7-b70366410e03"
      },
      "execution_count": 578,
      "outputs": [
        {
          "output_type": "execute_result",
          "data": {
            "text/plain": [
              "2"
            ]
          },
          "metadata": {},
          "execution_count": 578
        }
      ]
    },
    {
      "cell_type": "markdown",
      "source": [
        "DCNN_ConfutionMatrix"
      ],
      "metadata": {
        "id": "QaIHdRT1Bwbe"
      }
    },
    {
      "cell_type": "code",
      "source": [
        "\n",
        "cm = tf.math.confusion_matrix(labels=y_test,predictions=y_predicted_labels_dcnn)\n",
        "print(cm)\n",
        "accuracy_score(y_test, y_predicted_labels_dcnn)"
      ],
      "metadata": {
        "colab": {
          "base_uri": "https://localhost:8080/"
        },
        "id": "Eu3H-J2GB1My",
        "outputId": "e77eef54-1c05-4d05-e442-98c15c068985"
      },
      "execution_count": 579,
      "outputs": [
        {
          "output_type": "stream",
          "name": "stdout",
          "text": [
            "tf.Tensor(\n",
            "[[232   1   8   2   0   1   0   0   0   0]\n",
            " [  1  41   9   1   0   2   0   0   0   0]\n",
            " [ 13   4 647   3   1   0   0   0   0   0]\n",
            " [  0   0   3  38   1   0   0   0   0   0]\n",
            " [  1   0   2   2  23   0   2   0   0   0]\n",
            " [  1   1   2   0   1  93   0   0   0   0]\n",
            " [  0   0   0   1   0   0  65   0   1   0]\n",
            " [  0   0   0   0   0   0   0  24   0   0]\n",
            " [  0   0   0   0   0   0   0   0  18   0]\n",
            " [  1   0   0   0   0   0   0   0   0  24]], shape=(10, 10), dtype=int32)\n"
          ]
        },
        {
          "output_type": "execute_result",
          "data": {
            "text/plain": [
              "0.9488188976377953"
            ]
          },
          "metadata": {},
          "execution_count": 579
        }
      ]
    },
    {
      "cell_type": "markdown",
      "source": [
        "DCNN_ROC\n"
      ],
      "metadata": {
        "id": "Bb7piUzeB4IL"
      }
    },
    {
      "cell_type": "code",
      "source": [
        "#ROC Model\n",
        "\n",
        "y_pred1 = di.predict(X_test)\n",
        "y_pred1=[np.argmax(i) for i in y_pred1]\n",
        "\n",
        "plt.figure(figsize=(10,5))\n",
        "\n",
        "\n",
        "for i in range(10):\n",
        "    nn_fpr_keras, nn_tpr_keras, nn_thresholds_keras = roc_curve(y_test  , y_pred1, pos_label=i)\n",
        "    auc_keras = auc(nn_fpr_keras, nn_tpr_keras)\n",
        "    plt.plot(nn_fpr_keras, nn_tpr_keras,marker='.'.format(), label='class # %0.f' % i)\n",
        "    \n",
        "plt.legend(loc=\"lower right\")"
      ],
      "metadata": {
        "colab": {
          "base_uri": "https://localhost:8080/",
          "height": 338
        },
        "id": "44TKzeYeBrVL",
        "outputId": "3405ded2-7ac6-45b2-b2a9-48be404c6111"
      },
      "execution_count": 580,
      "outputs": [
        {
          "output_type": "execute_result",
          "data": {
            "text/plain": [
              "<matplotlib.legend.Legend at 0x7fcb255682d0>"
            ]
          },
          "metadata": {},
          "execution_count": 580
        },
        {
          "output_type": "display_data",
          "data": {
            "text/plain": [
              "<Figure size 720x360 with 1 Axes>"
            ],
            "image/png": "[encoded data removed]"
          },
          "metadata": {
            "needs_background": "light"
          }
        }
      ]
    },
    {
      "cell_type": "markdown",
      "source": [
        "# HDC_Predict\n"
      ],
      "metadata": {
        "id": "6fqF4e0pCGuE"
      }
    },
    {
      "cell_type": "code",
      "source": [
        "y_pred_hdc = hdc.predict(X_test)\n",
        "y_pred_classes_hdc = [np.argmax(element) for element in y_pred_hdc]\n",
        "y_pred_classes_hdc[:5]"
      ],
      "metadata": {
        "colab": {
          "base_uri": "https://localhost:8080/"
        },
        "id": "Kce-b-H9CGuE",
        "outputId": "6e258732-e237-472a-9a2c-61699f88ce3b"
      },
      "execution_count": 581,
      "outputs": [
        {
          "output_type": "execute_result",
          "data": {
            "text/plain": [
              "[2, 0, 0, 2, 0]"
            ]
          },
          "metadata": {},
          "execution_count": 581
        }
      ]
    },
    {
      "cell_type": "code",
      "source": [
        "predictions_hdc=hdc.predict(X_test)\n",
        "predictions_hdc"
      ],
      "metadata": {
        "colab": {
          "base_uri": "https://localhost:8080/"
        },
        "id": "V4exiyNLcvTB",
        "outputId": "20e74e86-038f-491f-9b7f-bc239321f905"
      },
      "execution_count": 582,
      "outputs": [
        {
          "output_type": "execute_result",
          "data": {
            "text/plain": [
              "array([[ 0.0,  0.0,  0.9, ...,  0.0,  0.0,  0.0],\n",
              "       [ 1.0,  0.0,  0.0, ...,  0.0,  0.0,  0.0],\n",
              "       [ 1.0,  0.0,  0.0, ...,  0.0,  0.0,  0.0],\n",
              "       ...,\n",
              "       [ 0.0,  0.0,  0.9, ...,  0.0,  0.0,  0.0],\n",
              "       [ 0.9,  0.0,  0.1, ...,  0.0,  0.0,  0.0],\n",
              "       [ 0.0,  0.0,  1.0, ...,  0.0,  0.0,  0.0]], dtype=float32)"
            ]
          },
          "metadata": {},
          "execution_count": 582
        }
      ]
    },
    {
      "cell_type": "code",
      "source": [
        "y_predicted_labels_hdc = [np.argmax(i) for i in y_pred_hdc]"
      ],
      "metadata": {
        "id": "XJJb2WhzCGuE"
      },
      "execution_count": 583,
      "outputs": []
    },
    {
      "cell_type": "code",
      "source": [
        "score=tf.nn.softmax(predictions_hdc[0])\n",
        "score\n",
        "np.argmax(score)"
      ],
      "metadata": {
        "colab": {
          "base_uri": "https://localhost:8080/"
        },
        "id": "pGGCBJaWCGuF",
        "outputId": "def6da75-bbfe-4378-fc4a-a26e66d05bb9"
      },
      "execution_count": 584,
      "outputs": [
        {
          "output_type": "execute_result",
          "data": {
            "text/plain": [
              "2"
            ]
          },
          "metadata": {},
          "execution_count": 584
        }
      ]
    },
    {
      "cell_type": "markdown",
      "source": [
        "hdc_ConfutionMatrix"
      ],
      "metadata": {
        "id": "Pn7m85wsCGuF"
      }
    },
    {
      "cell_type": "code",
      "source": [
        "\n",
        "cm = tf.math.confusion_matrix(labels=y_test,predictions=y_predicted_labels_hdc)\n",
        "print(cm)\n",
        "accuracy_score(y_test, y_predicted_labels_hdc)"
      ],
      "metadata": {
        "colab": {
          "base_uri": "https://localhost:8080/"
        },
        "id": "wvX1pzi3CGuF",
        "outputId": "89262ca1-b955-43eb-e723-bac0db0953e5"
      },
      "execution_count": 585,
      "outputs": [
        {
          "output_type": "stream",
          "name": "stdout",
          "text": [
            "tf.Tensor(\n",
            "[[238   0   5   1   0   0   0   0   0   0]\n",
            " [  0  49   5   0   0   0   0   0   0   0]\n",
            " [  1   0 666   0   1   0   0   0   0   0]\n",
            " [  0   0   3  38   1   0   0   0   0   0]\n",
            " [  0   0   1   0  29   0   0   0   0   0]\n",
            " [  1   1   0   0   0  96   0   0   0   0]\n",
            " [  0   0   1   0   0   0  66   0   0   0]\n",
            " [  1   0   0   0   0   0   0  23   0   0]\n",
            " [  0   0   1   0   0   0   0   0  17   0]\n",
            " [  0   0   0   0   0   0   0   0   0  25]], shape=(10, 10), dtype=int32)\n"
          ]
        },
        {
          "output_type": "execute_result",
          "data": {
            "text/plain": [
              "0.9818897637795275"
            ]
          },
          "metadata": {},
          "execution_count": 585
        }
      ]
    },
    {
      "cell_type": "markdown",
      "source": [
        "hdc_ROC\n"
      ],
      "metadata": {
        "id": "fbCl2PCSCGuF"
      }
    },
    {
      "cell_type": "code",
      "source": [
        "#ROC Model\n",
        "\n",
        "y_pred1 = hdc.predict(X_test)\n",
        "y_pred1=[np.argmax(i) for i in y_pred1]\n",
        "\n",
        "plt.figure(figsize=(10,5))\n",
        "\n",
        "\n",
        "for i in range(10):\n",
        "    nn_fpr_keras, nn_tpr_keras, nn_thresholds_keras = roc_curve(y_test  , y_pred1, pos_label=i)\n",
        "    auc_keras = auc(nn_fpr_keras, nn_tpr_keras)\n",
        "    plt.plot(nn_fpr_keras, nn_tpr_keras,marker='.'.format(), label='class # %0.f' % i)\n",
        "    \n",
        "plt.legend(loc=\"lower right\")"
      ],
      "metadata": {
        "colab": {
          "base_uri": "https://localhost:8080/",
          "height": 338
        },
        "id": "rpaDux4cCGuF",
        "outputId": "b0596628-5b73-498c-cae3-af28db94b95c"
      },
      "execution_count": 586,
      "outputs": [
        {
          "output_type": "execute_result",
          "data": {
            "text/plain": [
              "<matplotlib.legend.Legend at 0x7fcb27b51210>"
            ]
          },
          "metadata": {},
          "execution_count": 586
        },
        {
          "output_type": "display_data",
          "data": {
            "text/plain": [
              "<Figure size 720x360 with 1 Axes>"
            ],
            "image/png": "[encoded data removed]"
          },
          "metadata": {
            "needs_background": "light"
          }
        }
      ]
    },
    {
      "cell_type": "code",
      "source": [
        "#loss curve\n",
        "\n",
        "\n",
        "#plt.plot()\n",
        "#plt.plot(history3.history['loss'])\n",
        "plt.title('loss curve')\n",
        "plt.ylabel('loss')\n",
        "plt.xlabel('epoch')\n",
        "\n",
        "for i in range(3):\n",
        "\n",
        "    if(i==0) :\n",
        "             plt.plot(history1.history['loss'],marker='.'.format(), label='Model # %0.f' % 1)\n",
        "    elif(i==1):\n",
        "             plt.plot(history2.history['loss'],marker='.'.format(), label='Model # %0.f' % 2)\n",
        "    else :\n",
        "             plt.plot(history3.history['loss'],marker='.'.format(), label='Model # %0.f' % 3)\n",
        "plt.legend(loc=\"lower right\")\n"
      ],
      "metadata": {
        "colab": {
          "base_uri": "https://localhost:8080/",
          "height": 313
        },
        "id": "YlALIUvalyBz",
        "outputId": "c7196c64-c3d1-4f98-b831-61f13de7ca74"
      },
      "execution_count": 587,
      "outputs": [
        {
          "output_type": "execute_result",
          "data": {
            "text/plain": [
              "<matplotlib.legend.Legend at 0x7fcb1bd3d550>"
            ]
          },
          "metadata": {},
          "execution_count": 587
        },
        {
          "output_type": "display_data",
          "data": {
            "text/plain": [
              "<Figure size 432x288 with 1 Axes>"
            ],
            "image/png": "[encoded data removed]"
          },
          "metadata": {
            "needs_background": "light"
          }
        }
      ]
    },
    {
      "cell_type": "code",
      "source": [
        "#Accuracy curve\n",
        "\n",
        "import matplotlib.pyplot as plt\n",
        "plt.title('accuracy curve')\n",
        "plt.ylabel('accuracy')\n",
        "plt.xlabel('epoch')\n",
        "\n",
        "for i in range(3):\n",
        "    if(i==0) :\n",
        "             plt.plot(history1.history['accuracy'],marker='.'.format(), label='Model # %0.f' % 1)\n",
        "    elif(i==1):\n",
        "             plt.plot(history2.history['accuracy'],marker='.'.format(), label='Model # %0.f' % 2)\n",
        "    else :\n",
        "             plt.plot(history3.history['accuracy'],marker='.'.format(), label='Model # %0.f' % 3)\n",
        "plt.legend(loc=\"lower right\")"
      ],
      "metadata": {
        "colab": {
          "base_uri": "https://localhost:8080/",
          "height": 313
        },
        "id": "3SgEgS4G2R3_",
        "outputId": "e73c12d3-27ad-4228-de03-d4da1d07b0f2"
      },
      "execution_count": 588,
      "outputs": [
        {
          "output_type": "execute_result",
          "data": {
            "text/plain": [
              "<matplotlib.legend.Legend at 0x7fcb1bf222d0>"
            ]
          },
          "metadata": {},
          "execution_count": 588
        },
        {
          "output_type": "display_data",
          "data": {
            "text/plain": [
              "<Figure size 432x288 with 1 Axes>"
            ],
            "image/png": "[encoded data removed]"
          },
          "metadata": {
            "needs_background": "light"
          }
        }
      ]
    },
    {
      "cell_type": "code",
      "source": [
        "#Validation_Loss_curve\n",
        "\n",
        "import matplotlib.pyplot as plt\n",
        "plt.title('Validation_lose_curve')\n",
        "plt.ylabel('loss_V')\n",
        "plt.xlabel('epoch')\n",
        "\n",
        "for i in range(3):\n",
        "    if(i==0) :\n",
        "             plt.plot(history1.history['val_loss'],marker='.'.format(), label='Model # %0.f' % 1)\n",
        "    elif(i==1):\n",
        "             plt.plot(history2.history['val_loss'],marker='.'.format(), label='Model # %0.f' % 2)\n",
        "    else :\n",
        "             plt.plot(history3.history['val_loss'],marker='.'.format(), label='Model # %0.f' % 3)\n",
        "plt.legend(loc=\"lower right\")"
      ],
      "metadata": {
        "colab": {
          "base_uri": "https://localhost:8080/",
          "height": 313
        },
        "id": "DaUCiKDSteMa",
        "outputId": "1447493b-85f4-4d85-ac2a-a91e6cf6daff"
      },
      "execution_count": 589,
      "outputs": [
        {
          "output_type": "execute_result",
          "data": {
            "text/plain": [
              "<matplotlib.legend.Legend at 0x7fcb1ade2ed0>"
            ]
          },
          "metadata": {},
          "execution_count": 589
        },
        {
          "output_type": "display_data",
          "data": {
            "text/plain": [
              "<Figure size 432x288 with 1 Axes>"
            ],
            "image/png": "[encoded data removed]"
          },
          "metadata": {
            "needs_background": "light"
          }
        }
      ]
    },
    {
      "cell_type": "code",
      "source": [
        "#Compare 3 models in training accuracy\n",
        "\n",
        "print(\"\\t\\t\\t CNN \\t\\t  DCNN   \\t\\t  HDC\")\n",
        "print(f\"Tranning_Accuracy: {train_acc1} {train_acc2} {train_acc3}\")"
      ],
      "metadata": {
        "colab": {
          "base_uri": "https://localhost:8080/"
        },
        "id": "4BP8gB2qlUxN",
        "outputId": "63d26b8d-041f-4cd9-9979-320d1b625713"
      },
      "execution_count": 590,
      "outputs": [
        {
          "output_type": "stream",
          "name": "stdout",
          "text": [
            "\t\t\t CNN \t\t  DCNN   \t\t  HDC\n",
            "Tranning_Accuracy: 0.9938454031944275 0.9965534210205078 0.9963072538375854\n"
          ]
        }
      ]
    },
    {
      "cell_type": "code",
      "source": [
        "#Compare 3 models in testing accuracy\n",
        "\n",
        "print(\"\\t\\t\\t CNN \\t\\t  DCNN   \\t\\t  HDC\")\n",
        "print(f\"Testing_Accuracy: {test_acc1} {test_acc2} {test_acc3}\")"
      ],
      "metadata": {
        "colab": {
          "base_uri": "https://localhost:8080/"
        },
        "id": "tEddM3C2pxyq",
        "outputId": "ac1ad160-72d2-4c3c-aa03-be2f12b44806"
      },
      "execution_count": 591,
      "outputs": [
        {
          "output_type": "stream",
          "name": "stdout",
          "text": [
            "\t\t\t CNN \t\t  DCNN   \t\t  HDC\n",
            "Testing_Accuracy: 0.9543306827545166 0.9488189220428467 0.9716535210609436\n"
          ]
        }
      ]
    },
    {
      "cell_type": "code",
      "source": [
        "#Compare 3 models in Required Time\n",
        "\n",
        "print(\"\\t\\t CNN \\t\\t  DCNN   \\t     HDC \")\n",
        "print(f\"Timing:  {time1} {time2} {time3}\")"
      ],
      "metadata": {
        "colab": {
          "base_uri": "https://localhost:8080/"
        },
        "id": "B-iBfQhNpx5o",
        "outputId": "1bbd0725-a635-46a0-9e7f-17fe13bc3e14"
      },
      "execution_count": 592,
      "outputs": [
        {
          "output_type": "stream",
          "name": "stdout",
          "text": [
            "\t\t CNN \t\t  DCNN   \t     HDC \n",
            "Timing:  201.97470712661743 206.64966583251953 349.05693340301514\n"
          ]
        }
      ]
    },
    {
      "cell_type": "markdown",
      "source": [
        "CNN_BlockDigram"
      ],
      "metadata": {
        "id": "6-4X720NNBFU"
      }
    },
    {
      "cell_type": "code",
      "source": [
        "tf.keras.utils.plot_model(\n",
        "    cnn,\n",
        "    to_file='model.png',\n",
        "    show_shapes=False,\n",
        "    show_dtype=False,\n",
        "    show_layer_names=True,\n",
        "    rankdir='TB',\n",
        "    expand_nested=False,\n",
        "    dpi=96,\n",
        "    layer_range=None,\n",
        "    show_layer_activations=False\n",
        ")"
      ],
      "metadata": {
        "colab": {
          "base_uri": "https://localhost:8080/",
          "height": 1000
        },
        "id": "q_n_GQaTK6Ke",
        "outputId": "6c115abf-76e8-4941-811c-8c42501ffe5b"
      },
      "execution_count": 596,
      "outputs": [
        {
          "output_type": "execute_result",
          "data": {
            "text/plain": [
              "<IPython.core.display.Image object>"
            ],
            "image/png": "[encoded data removed]"
          },
          "metadata": {},
          "execution_count": 596
        }
      ]
    },
    {
      "cell_type": "markdown",
      "source": [
        "DNN_BlockDigram"
      ],
      "metadata": {
        "id": "BfiK6gGMNHv6"
      }
    },
    {
      "cell_type": "code",
      "source": [
        "tf.keras.utils.plot_model(\n",
        "    di,\n",
        "    to_file='model.png',\n",
        "    show_shapes=False,\n",
        "    show_dtype=False,\n",
        "    show_layer_names=True,\n",
        "    rankdir='TB',\n",
        "    expand_nested=False,\n",
        "    dpi=96,\n",
        "    layer_range=None,\n",
        "    show_layer_activations=False\n",
        ")"
      ],
      "metadata": {
        "colab": {
          "base_uri": "https://localhost:8080/",
          "height": 1000
        },
        "outputId": "43cfed7b-8160-4785-fd95-3a1e0b022609",
        "id": "oZep7h3yMfOy"
      },
      "execution_count": 597,
      "outputs": [
        {
          "output_type": "execute_result",
          "data": {
            "text/plain": [
              "<IPython.core.display.Image object>"
            ],
            "image/png": "[encoded data removed]"
          },
          "metadata": {},
          "execution_count": 597
        }
      ]
    },
    {
      "cell_type": "markdown",
      "source": [
        "HDC_BlockDigram"
      ],
      "metadata": {
        "id": "ljnVU64RNSfV"
      }
    },
    {
      "cell_type": "code",
      "source": [
        "tf.keras.utils.plot_model(\n",
        "    hdc,\n",
        "    to_file='model.png',\n",
        "    show_shapes=False,\n",
        "    show_dtype=False,\n",
        "    show_layer_names=True,\n",
        "    rankdir='TB',\n",
        "    expand_nested=False,\n",
        "    dpi=96,\n",
        "    layer_range=None,\n",
        "    show_layer_activations=False\n",
        ")"
      ],
      "metadata": {
        "colab": {
          "base_uri": "https://localhost:8080/",
          "height": 1000
        },
        "outputId": "531cda78-7215-47a6-a4c6-758ec8788883",
        "id": "Wtju2H12MuZ3"
      },
      "execution_count": 598,
      "outputs": [
        {
          "output_type": "execute_result",
          "data": {
            "text/plain": [
              "<IPython.core.display.Image object>"
            ],
            "image/png": "[encoded data removed]"
          },
          "metadata": {},
          "execution_count": 598
        }
      ]
    }
  ]
}